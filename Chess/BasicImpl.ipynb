{
 "cells": [
  {
   "cell_type": "code",
   "execution_count": null,
   "metadata": {
    "collapsed": true,
    "pycharm": {
     "is_executing": true
    },
    "is_executing": true
   },
   "outputs": [],
   "source": [
    "from Chess import ChessEngine as ce\n",
    "import chess as ch\n",
    "import chess.svg\n",
    "import random\n",
    "from IPython.display import display, clear_output\n",
    "\n",
    "\n",
    "class Main:\n",
    "\n",
    "    def __init__(self, board=ch.Board):\n",
    "        self.board = board\n",
    "\n",
    "    # play human move\n",
    "    def playHumanMove(self):\n",
    "        try:\n",
    "            print(self.board.legal_moves)\n",
    "            print(\"\"\"To undo your last move, type \"undo\".\"\"\")\n",
    "            # get human move\n",
    "            play = display(input(\"Your move: \"))\n",
    "            if (play == \"undo\"):\n",
    "                self.board.pop()\n",
    "                self.board.pop()\n",
    "                self.playHumanMove()\n",
    "                return\n",
    "            self.board.push_san(play)\n",
    "        except:\n",
    "            self.playHumanMove()\n",
    "\n",
    "    # play engine move\n",
    "    def playEngineMove(self, maxDepth, color):\n",
    "        engine = ce.Engine(self.board, maxDepth, color)\n",
    "        self.board.push(engine.getBestMove())\n",
    "\n",
    "    # start a game\n",
    "    def startGame(self):\n",
    "        # get human player's color\n",
    "        color = None\n",
    "        while (color != \"b\" and color != \"w\"):\n",
    "            color = input(\"\"\"Play as (type \"b\" or \"w\"): \"\"\")\n",
    "        maxDepth = None\n",
    "        while (isinstance(maxDepth, int) == False):\n",
    "            maxDepth = int(input(\"\"\"Choose depth: \"\"\"))\n",
    "        if color == \"b\":\n",
    "            while (self.board.is_checkmate() == False):\n",
    "                print(\"The engine is thinking...\")\n",
    "                self.playEngineMove(maxDepth, ch.WHITE)\n",
    "                display(self.board)\n",
    "                self.playHumanMove()\n",
    "                display(self.board)\n",
    "            display(self.board)\n",
    "            print(self.board.outcome())\n",
    "        elif color == \"w\":\n",
    "            while (self.board.is_checkmate() == False):\n",
    "                display(self.board)\n",
    "                self.playHumanMove()\n",
    "                display(self.board)\n",
    "                print(\"The engine is thinking...\")\n",
    "                self.playEngineMove(maxDepth, ch.BLACK)\n",
    "            print(self.board)\n",
    "            print(self.board.outcome())\n",
    "        # reset the board\n",
    "        self.board.reset\n",
    "        # start another game\n",
    "        self.startGame()\n",
    "\n",
    "\n",
    "# create an instance and start a game\n",
    "newBoard= ch.Board()\n",
    "game = Main(newBoard)\n",
    "bruh = game.startGame()"
   ]
  },
  {
   "cell_type": "code",
   "execution_count": 1,
   "outputs": [],
   "source": [],
   "metadata": {
    "collapsed": false
   }
  },
  {
   "cell_type": "code",
   "execution_count": null,
   "outputs": [],
   "source": [],
   "metadata": {
    "collapsed": false
   }
  },
  {
   "cell_type": "code",
   "execution_count": null,
   "outputs": [],
   "source": [],
   "metadata": {
    "collapsed": false
   }
  }
 ],
 "metadata": {
  "kernelspec": {
   "display_name": "Python 3",
   "language": "python",
   "name": "python3"
  },
  "language_info": {
   "codemirror_mode": {
    "name": "ipython",
    "version": 2
   },
   "file_extension": ".py",
   "mimetype": "text/x-python",
   "name": "python",
   "nbconvert_exporter": "python",
   "pygments_lexer": "ipython2",
   "version": "2.7.6"
  }
 },
 "nbformat": 4,
 "nbformat_minor": 0
}
